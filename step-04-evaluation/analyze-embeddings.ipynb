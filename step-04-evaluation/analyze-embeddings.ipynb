{
 "cells": [
  {
   "cell_type": "code",
   "execution_count": 2,
   "id": "22925697",
   "metadata": {},
   "outputs": [],
   "source": [
    "from tira.rest_api_client import Client\n",
    "from tqdm import tqdm\n",
    "import gzip\n",
    "import json\n",
    "\n",
    "tira = Client()"
   ]
  },
  {
   "cell_type": "code",
   "execution_count": 3,
   "id": "7ee2ef6c",
   "metadata": {},
   "outputs": [],
   "source": [
    "def du(path):\n",
    "    import subprocess\n",
    "    return subprocess.check_output(['du','-s', path]).split()[0].decode('utf-8')\n",
    "\n",
    "def ds_stats(path):\n",
    "    queries = 0\n",
    "    docs = 0\n",
    "    with gzip.open(path / 'corpus.jsonl.gz', 'rt') as f:\n",
    "        for l in f:\n",
    "            docs += 1\n",
    "    with open(path / 'queries.jsonl', 'r') as f:\n",
    "        for l in f:\n",
    "            queries += 1\n",
    "    return {\"docs_count\": docs, \"queries_count\": queries}\n"
   ]
  },
  {
   "cell_type": "code",
   "execution_count": 4,
   "id": "d3967835",
   "metadata": {},
   "outputs": [
    {
     "name": "stderr",
     "output_type": "stream",
     "text": [
      "trec-robust-2004-fold-5-20250926-test: 100%|██████████| 11/11 [00:14<00:00,  1.36s/it]\n",
      "trec-robust-2004-fold-4-20250926-test: 100%|██████████| 11/11 [00:11<00:00,  1.05s/it]\n",
      "trec-robust-2004-fold-3-20250926-test: 100%|██████████| 11/11 [00:09<00:00,  1.13it/s]\n",
      "trec-robust-2004-fold-2-20250926-test: 100%|██████████| 11/11 [00:04<00:00,  2.63it/s]\n",
      "trec-robust-2004-fold-1-20250927-test: 100%|██████████| 11/11 [00:02<00:00,  4.55it/s]\n",
      "trec-33-rag-20250926_1-training: 100%|██████████| 11/11 [00:01<00:00,  5.63it/s]\n",
      "trec-29-deep-learning-passages-20250926-training: 100%|██████████| 11/11 [00:01<00:00,  7.03it/s]\n",
      "trec-28-misinfo-20251008_1-test: 100%|██████████| 11/11 [00:01<00:00,  7.54it/s]\n",
      "trec-28-deep-learning-passages-20250926-training: 100%|██████████| 11/11 [00:01<00:00,  7.69it/s]\n",
      "trec-23-web-20251008-test: 100%|██████████| 11/11 [00:01<00:00,  6.75it/s]\n",
      "trec-22-web-20251008-test: 100%|██████████| 11/11 [00:01<00:00,  7.39it/s]\n",
      "trec-21-web-20251008-test: 100%|██████████| 11/11 [00:01<00:00,  7.22it/s]\n",
      "trec-20-web-20251008-test: 100%|██████████| 11/11 [00:01<00:00,  7.07it/s]\n",
      "trec-19-web-20251008-test: 100%|██████████| 11/11 [00:01<00:00,  7.23it/s]\n",
      "trec-18-web-20251008-test: 100%|██████████| 11/11 [00:01<00:00,  7.35it/s]\n",
      "tiny-example-20251002_0-training: 100%|██████████| 11/11 [00:01<00:00,  5.51it/s]\n"
     ]
    }
   ],
   "source": [
    "EMBEDDINGS = [\"naver-splade-v3\", \"webis-splade\", \"naver-splade-v3-distilbert\", \"naver-splade_v2_distil\", \n",
    "              \"naver-splade-v3-doc\", \"castorini-unicoil-noexp-msmarco-passage\", \"opensearch-project-opensearch-neural-sparse-encoding-doc-v2-mini\",\n",
    "              \"opensearch-project-opensearch-neural-sparse-encoding-doc-v3-distill\", \"naver-splade-v3-lexical\",\n",
    "              \"opensearch-project-opensearch-neural-sparse-encoding-doc-v2-distill\", \"opensearch-project-opensearch-neural-sparse-encoding-v2-distill\"]\n",
    "\n",
    "DATASETS = [\"trec-robust-2004-fold-5-20250926-test\", \"trec-robust-2004-fold-4-20250926-test\", \"trec-robust-2004-fold-3-20250926-test\", \n",
    "            \"trec-robust-2004-fold-2-20250926-test\", \"trec-robust-2004-fold-1-20250927-test\", \"trec-33-rag-20250926_1-training\", \n",
    "            \"trec-29-deep-learning-passages-20250926-training\", \"trec-28-misinfo-20251008_1-test\", \n",
    "            \"trec-28-deep-learning-passages-20250926-training\", \"trec-23-web-20251008-test\",\n",
    "            \"trec-22-web-20251008-test\", \"trec-21-web-20251008-test\", \"trec-20-web-20251008-test\",\n",
    "            \"trec-19-web-20251008-test\", \"trec-18-web-20251008-test\", \n",
    "            \"tiny-example-20251002_0-training\"\n",
    "             ]\n",
    "\n",
    "SIZES = {}\n",
    "\n",
    "for dataset in DATASETS:\n",
    "    embedding_sizes = {}\n",
    "    for embedding in tqdm(EMBEDDINGS, dataset):\n",
    "        embedding_sizes[embedding] = du(tira.get_run_output(f'lsr-benchmark/lightning-ir/{embedding}', dataset))\n",
    "    SIZES[dataset] = {\n",
    "        'dataset-size': du(tira.download_dataset(task='lsr-benchmark', dataset=dataset)),\n",
    "        'dataset_stats': ds_stats(tira.download_dataset(task='lsr-benchmark', dataset=dataset)),\n",
    "        \"embedding-sizes\": embedding_sizes}\n",
    "\n",
    "with open('../lsr_benchmark/datasets/overview.json', 'w') as f:\n",
    "    f.write(json.dumps(SIZES))"
   ]
  }
 ],
 "metadata": {
  "kernelspec": {
   "display_name": "Python 3",
   "language": "python",
   "name": "python3"
  },
  "language_info": {
   "codemirror_mode": {
    "name": "ipython",
    "version": 3
   },
   "file_extension": ".py",
   "mimetype": "text/x-python",
   "name": "python",
   "nbconvert_exporter": "python",
   "pygments_lexer": "ipython3",
   "version": "3.13.7"
  }
 },
 "nbformat": 4,
 "nbformat_minor": 5
}
