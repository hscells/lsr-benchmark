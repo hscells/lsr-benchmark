{
 "cells": [
  {
   "cell_type": "markdown",
   "id": "a4c067b4",
   "metadata": {},
   "source": [
    "# Tutorial on how to access the underlying datasets of the lsr-benchmark\n",
    "\n",
    "This tutorial aims to show how the underlying datasets can be accessed. Please note that most datasets are private and therefore only available in the TIRA sandbox, but for datasets where the License allows us to make the subsamples public we do this. **(Please note: we still make the embeddings public for datasets that are private, but the underlying text can not be accessed in those cases)**\n",
    "\n",
    "Datasets that are completely public are:\n",
    "\n",
    "- `msmarco-passage/trec-dl-2019/judged`\n",
    "- `msmarco-passage/trec-dl-2020/judged`\n",
    "- `msmarco-segment-v2.1/trec-rag-2024`"
   ]
  },
  {
   "cell_type": "markdown",
   "id": "af077b47",
   "metadata": {},
   "source": [
    "## Step 1: Install the lsr-benchmark"
   ]
  },
  {
   "cell_type": "code",
   "execution_count": null,
   "id": "7cc2ec77",
   "metadata": {},
   "outputs": [],
   "source": [
    "!pip3 install lsr-benchmark"
   ]
  },
  {
   "cell_type": "markdown",
   "id": "033db144",
   "metadata": {},
   "source": [
    "## Step 2: Register and load a dataset"
   ]
  },
  {
   "cell_type": "code",
   "execution_count": 1,
   "id": "655d0554",
   "metadata": {},
   "outputs": [],
   "source": [
    "import ir_datasets\n",
    "from lsr_benchmark import register_to_ir_datasets\n",
    "\n",
    "register_to_ir_datasets(\"msmarco-passage/trec-dl-2019/judged\")\n",
    "\n",
    "dataset = ir_datasets.load(\"lsr-benchmark/msmarco-passage/trec-dl-2019/judged\")"
   ]
  },
  {
   "cell_type": "markdown",
   "id": "a8961d11",
   "metadata": {},
   "source": [
    "## Step 3: Process Documents, Queries, and Qrels"
   ]
  },
  {
   "cell_type": "code",
   "execution_count": 2,
   "id": "3f11521e",
   "metadata": {},
   "outputs": [
    {
     "name": "stdout",
     "output_type": "stream",
     "text": [
      "doc_id: 8811478\n",
      "Text: Solution to Example 6: Function f is defined for all real values of x. The domain of f is the set of all real numbers.  We will graph it by considering the value of the function in each interval.  In the interval (- inf , -2] the graph of f is a horizontal line y = f(x) = -1 (see formula for this interval above).\n"
     ]
    }
   ],
   "source": [
    "for doc in dataset.docs_iter():\n",
    "    print(\"doc_id:\", doc.doc_id)\n",
    "    print(\"Text:\", doc.default_text())\n",
    "    break"
   ]
  },
  {
   "cell_type": "code",
   "execution_count": 3,
   "id": "635f707b",
   "metadata": {},
   "outputs": [
    {
     "name": "stdout",
     "output_type": "stream",
     "text": [
      "query_id: 156493\n",
      "Text: do goldfish grow\n"
     ]
    }
   ],
   "source": [
    "for query in dataset.queries_iter():\n",
    "    print(\"query_id:\", query.query_id)\n",
    "    print(\"Text:\", query.default_text())\n",
    "    break"
   ]
  },
  {
   "cell_type": "code",
   "execution_count": 4,
   "id": "47b6bcc5",
   "metadata": {},
   "outputs": [
    {
     "name": "stdout",
     "output_type": "stream",
     "text": [
      "TrecQrel(query_id='19335', doc_id='1017759', relevance=0, iteration='0')\n"
     ]
    }
   ],
   "source": [
    "for qrel in dataset.qrels_iter():\n",
    "    print(qrel)\n",
    "    break"
   ]
  }
 ],
 "metadata": {
  "kernelspec": {
   "display_name": "Python 3",
   "language": "python",
   "name": "python3"
  },
  "language_info": {
   "codemirror_mode": {
    "name": "ipython",
    "version": 3
   },
   "file_extension": ".py",
   "mimetype": "text/x-python",
   "name": "python",
   "nbconvert_exporter": "python",
   "pygments_lexer": "ipython3",
   "version": "3.10.12"
  }
 },
 "nbformat": 4,
 "nbformat_minor": 5
}
