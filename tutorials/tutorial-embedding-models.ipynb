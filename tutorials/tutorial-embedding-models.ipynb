{
 "cells": [
  {
   "cell_type": "markdown",
   "id": "f77c34e7",
   "metadata": {},
   "source": [
    "# Tutorial on Embedding Models for the lsr-benchmark\n",
    "\n",
    "This tutorial aims to show step-by-step how embedding models work in the `lsr-benchmark` and how  you can evaluate your own embeddings against existing ones.\n",
    "\n",
    "**ToDo:** Add a detailed description and step-by-step guide on how we arrived at the embedding engines that we have at [step-02-embedding-approaches](https://github.com/reneuir/lsr-benchmark/tree/main/step-02-embedding-approaches)."
   ]
  }
 ],
 "metadata": {
  "language_info": {
   "name": "python"
  }
 },
 "nbformat": 4,
 "nbformat_minor": 5
}
