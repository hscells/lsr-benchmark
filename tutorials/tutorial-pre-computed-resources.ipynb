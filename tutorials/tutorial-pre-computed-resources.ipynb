{
 "cells": [
  {
   "cell_type": "markdown",
   "id": "980859ff",
   "metadata": {},
   "source": [
    "# Tutorial: Overview and Pre-Computed Resources of the lsr-benchmark\n",
    "\n",
    "This tutorial provides an overview of the `lsr-benchmark` and on the pre-computed resources that you can re-use in your experiments."
   ]
  },
  {
   "cell_type": "markdown",
   "id": "e38e142f",
   "metadata": {},
   "source": [
    "## Step 1: Install the lsr-benchmark"
   ]
  },
  {
   "cell_type": "code",
   "execution_count": 1,
   "id": "3a82f0b7",
   "metadata": {},
   "outputs": [
    {
     "name": "stdout",
     "output_type": "stream",
     "text": [
      "Obtaining file:///workspaces/lsr_bench\n",
      "  Installing build dependencies ... \u001b[?25ldone\n",
      "\u001b[?25h  Checking if build backend supports build_editable ... \u001b[?25ldone\n",
      "\u001b[?25h  Getting requirements to build wheel ... \u001b[?25ldone\n",
      "\u001b[?25h  Preparing metadata (pyproject.toml) ... \u001b[?25ldone\n",
      "\u001b[?25hRequirement already satisfied: pyyaml in /usr/local/lib/python3.10/dist-packages (from lsr-benchmark==0.0.1rc3) (6.0.3)\n",
      "Requirement already satisfied: click in /usr/local/lib/python3.10/dist-packages (from lsr-benchmark==0.0.1rc3) (8.3.0)\n",
      "Requirement already satisfied: tirex-tracker>=0.2.16 in /usr/local/lib/python3.10/dist-packages (from lsr-benchmark==0.0.1rc3) (0.2.16)\n",
      "Requirement already satisfied: ir-datasets in /usr/local/lib/python3.10/dist-packages (from lsr-benchmark==0.0.1rc3) (0.5.9)\n",
      "Requirement already satisfied: ir-measures in /usr/local/lib/python3.10/dist-packages (from lsr-benchmark==0.0.1rc3) (0.4.1)\n",
      "Requirement already satisfied: tira in /usr/local/lib/python3.10/dist-packages (from lsr-benchmark==0.0.1rc3) (0.0.182)\n",
      "Requirement already satisfied: tqdm in /usr/local/lib/python3.10/dist-packages (from lsr-benchmark==0.0.1rc3) (4.67.1)\n",
      "Requirement already satisfied: importlib-metadata~=8.0 in /usr/local/lib/python3.10/dist-packages (from tirex-tracker>=0.2.16->lsr-benchmark==0.0.1rc3) (8.7.0)\n",
      "Requirement already satisfied: importlib-resources~=6.0 in /usr/local/lib/python3.10/dist-packages (from tirex-tracker>=0.2.16->lsr-benchmark==0.0.1rc3) (6.5.2)\n",
      "Requirement already satisfied: gitpython~=3.1 in /usr/local/lib/python3.10/dist-packages (from tirex-tracker>=0.2.16->lsr-benchmark==0.0.1rc3) (3.1.45)\n",
      "Requirement already satisfied: typing-extensions~=4.0 in /usr/local/lib/python3.10/dist-packages (from tirex-tracker>=0.2.16->lsr-benchmark==0.0.1rc3) (4.15.0)\n",
      "Requirement already satisfied: ipython in /usr/local/lib/python3.10/dist-packages (from tirex-tracker>=0.2.16->lsr-benchmark==0.0.1rc3) (8.37.0)\n",
      "Requirement already satisfied: lxml>=4.5.2 in /usr/local/lib/python3.10/dist-packages (from ir-datasets->lsr-benchmark==0.0.1rc3) (6.0.2)\n",
      "Requirement already satisfied: ijson>=3.1.3 in /usr/local/lib/python3.10/dist-packages (from ir-datasets->lsr-benchmark==0.0.1rc3) (3.4.0.post0)\n",
      "Requirement already satisfied: warc3-wet>=0.2.3 in /usr/local/lib/python3.10/dist-packages (from ir-datasets->lsr-benchmark==0.0.1rc3) (0.2.5)\n",
      "Requirement already satisfied: beautifulsoup4>=4.4.1 in /usr/local/lib/python3.10/dist-packages (from ir-datasets->lsr-benchmark==0.0.1rc3) (4.14.2)\n",
      "Requirement already satisfied: inscriptis>=2.2.0 in /usr/local/lib/python3.10/dist-packages (from ir-datasets->lsr-benchmark==0.0.1rc3) (2.6.0)\n",
      "Requirement already satisfied: trec-car-tools>=2.5.4 in /usr/local/lib/python3.10/dist-packages (from ir-datasets->lsr-benchmark==0.0.1rc3) (2.6)\n",
      "Requirement already satisfied: lz4>=3.1.10 in /usr/local/lib/python3.10/dist-packages (from ir-datasets->lsr-benchmark==0.0.1rc3) (4.4.4)\n",
      "Requirement already satisfied: warc3-wet-clueweb09>=0.2.5 in /usr/local/lib/python3.10/dist-packages (from ir-datasets->lsr-benchmark==0.0.1rc3) (0.2.5)\n",
      "Requirement already satisfied: unlzw3>=0.2.1 in /usr/local/lib/python3.10/dist-packages (from ir-datasets->lsr-benchmark==0.0.1rc3) (0.2.3)\n",
      "Requirement already satisfied: zlib-state>=0.1.3 in /usr/local/lib/python3.10/dist-packages (from ir-datasets->lsr-benchmark==0.0.1rc3) (0.1.10)\n",
      "Requirement already satisfied: requests>=2.22.0 in /usr/local/lib/python3.10/dist-packages (from ir-datasets->lsr-benchmark==0.0.1rc3) (2.32.5)\n",
      "Requirement already satisfied: numpy>=1.18.1 in /usr/local/lib/python3.10/dist-packages (from ir-datasets->lsr-benchmark==0.0.1rc3) (2.2.6)\n",
      "Requirement already satisfied: pytrec-eval-terrier>=0.5.5 in /usr/local/lib/python3.10/dist-packages (from ir-measures->lsr-benchmark==0.0.1rc3) (0.5.10)\n",
      "Requirement already satisfied: pyterrier-alpha in /usr/local/lib/python3.10/dist-packages (from tira->lsr-benchmark==0.0.1rc3) (0.16.3)\n",
      "Requirement already satisfied: packaging in /usr/local/lib/python3.10/dist-packages (from tira->lsr-benchmark==0.0.1rc3) (25.0)\n",
      "Requirement already satisfied: docker==7.*,>=7.1.0 in /usr/local/lib/python3.10/dist-packages (from tira->lsr-benchmark==0.0.1rc3) (7.1.0)\n",
      "Requirement already satisfied: pandas in /usr/local/lib/python3.10/dist-packages (from tira->lsr-benchmark==0.0.1rc3) (2.3.3)\n",
      "Requirement already satisfied: urllib3>=1.26.0 in /usr/local/lib/python3.10/dist-packages (from docker==7.*,>=7.1.0->tira->lsr-benchmark==0.0.1rc3) (2.5.0)\n",
      "Requirement already satisfied: idna<4,>=2.5 in /usr/local/lib/python3.10/dist-packages (from requests>=2.22.0->ir-datasets->lsr-benchmark==0.0.1rc3) (3.11)\n",
      "Requirement already satisfied: certifi>=2017.4.17 in /usr/local/lib/python3.10/dist-packages (from requests>=2.22.0->ir-datasets->lsr-benchmark==0.0.1rc3) (2025.10.5)\n",
      "Requirement already satisfied: charset_normalizer<4,>=2 in /usr/local/lib/python3.10/dist-packages (from requests>=2.22.0->ir-datasets->lsr-benchmark==0.0.1rc3) (3.4.4)\n",
      "Requirement already satisfied: soupsieve>1.2 in /usr/local/lib/python3.10/dist-packages (from beautifulsoup4>=4.4.1->ir-datasets->lsr-benchmark==0.0.1rc3) (2.8)\n",
      "Requirement already satisfied: gitdb<5,>=4.0.1 in /usr/local/lib/python3.10/dist-packages (from gitpython~=3.1->tirex-tracker>=0.2.16->lsr-benchmark==0.0.1rc3) (4.0.12)\n",
      "Requirement already satisfied: zipp>=3.20 in /usr/local/lib/python3.10/dist-packages (from importlib-metadata~=8.0->tirex-tracker>=0.2.16->lsr-benchmark==0.0.1rc3) (3.23.0)\n",
      "Requirement already satisfied: scipy>=1.1.0 in /usr/local/lib/python3.10/dist-packages (from pytrec-eval-terrier>=0.5.5->ir-measures->lsr-benchmark==0.0.1rc3) (1.15.3)\n",
      "Requirement already satisfied: cbor>=1.0.0 in /usr/local/lib/python3.10/dist-packages (from trec-car-tools>=2.5.4->ir-datasets->lsr-benchmark==0.0.1rc3) (1.0.0)\n",
      "Requirement already satisfied: traitlets>=5.13.0 in /usr/local/lib/python3.10/dist-packages (from ipython->tirex-tracker>=0.2.16->lsr-benchmark==0.0.1rc3) (5.14.3)\n",
      "Requirement already satisfied: matplotlib-inline in /usr/local/lib/python3.10/dist-packages (from ipython->tirex-tracker>=0.2.16->lsr-benchmark==0.0.1rc3) (0.2.1)\n",
      "Requirement already satisfied: pexpect>4.3 in /usr/local/lib/python3.10/dist-packages (from ipython->tirex-tracker>=0.2.16->lsr-benchmark==0.0.1rc3) (4.9.0)\n",
      "Requirement already satisfied: jedi>=0.16 in /usr/local/lib/python3.10/dist-packages (from ipython->tirex-tracker>=0.2.16->lsr-benchmark==0.0.1rc3) (0.19.2)\n",
      "Requirement already satisfied: decorator in /usr/local/lib/python3.10/dist-packages (from ipython->tirex-tracker>=0.2.16->lsr-benchmark==0.0.1rc3) (5.2.1)\n",
      "Requirement already satisfied: stack_data in /usr/local/lib/python3.10/dist-packages (from ipython->tirex-tracker>=0.2.16->lsr-benchmark==0.0.1rc3) (0.6.3)\n",
      "Requirement already satisfied: pygments>=2.4.0 in /usr/local/lib/python3.10/dist-packages (from ipython->tirex-tracker>=0.2.16->lsr-benchmark==0.0.1rc3) (2.19.2)\n",
      "Requirement already satisfied: prompt_toolkit<3.1.0,>=3.0.41 in /usr/local/lib/python3.10/dist-packages (from ipython->tirex-tracker>=0.2.16->lsr-benchmark==0.0.1rc3) (3.0.52)\n",
      "Requirement already satisfied: exceptiongroup in /usr/local/lib/python3.10/dist-packages (from ipython->tirex-tracker>=0.2.16->lsr-benchmark==0.0.1rc3) (1.3.0)\n",
      "Requirement already satisfied: tzdata>=2022.7 in /usr/local/lib/python3.10/dist-packages (from pandas->tira->lsr-benchmark==0.0.1rc3) (2025.2)\n",
      "Requirement already satisfied: pytz>=2020.1 in /usr/local/lib/python3.10/dist-packages (from pandas->tira->lsr-benchmark==0.0.1rc3) (2025.2)\n",
      "Requirement already satisfied: python-dateutil>=2.8.2 in /usr/local/lib/python3.10/dist-packages (from pandas->tira->lsr-benchmark==0.0.1rc3) (2.9.0.post0)\n",
      "Requirement already satisfied: python-terrier>=0.13.0 in /usr/local/lib/python3.10/dist-packages (from pyterrier-alpha->tira->lsr-benchmark==0.0.1rc3) (0.13.1)\n",
      "Requirement already satisfied: smmap<6,>=3.0.1 in /usr/local/lib/python3.10/dist-packages (from gitdb<5,>=4.0.1->gitpython~=3.1->tirex-tracker>=0.2.16->lsr-benchmark==0.0.1rc3) (5.0.2)\n",
      "Requirement already satisfied: parso<0.9.0,>=0.8.4 in /usr/local/lib/python3.10/dist-packages (from jedi>=0.16->ipython->tirex-tracker>=0.2.16->lsr-benchmark==0.0.1rc3) (0.8.5)\n",
      "Requirement already satisfied: ptyprocess>=0.5 in /usr/local/lib/python3.10/dist-packages (from pexpect>4.3->ipython->tirex-tracker>=0.2.16->lsr-benchmark==0.0.1rc3) (0.7.0)\n",
      "Requirement already satisfied: wcwidth in /usr/local/lib/python3.10/dist-packages (from prompt_toolkit<3.1.0,>=3.0.41->ipython->tirex-tracker>=0.2.16->lsr-benchmark==0.0.1rc3) (0.2.14)\n",
      "Requirement already satisfied: six>=1.5 in /usr/local/lib/python3.10/dist-packages (from python-dateutil>=2.8.2->pandas->tira->lsr-benchmark==0.0.1rc3) (1.17.0)\n",
      "Requirement already satisfied: more-itertools in /usr/local/lib/python3.10/dist-packages (from python-terrier>=0.13.0->pyterrier-alpha->tira->lsr-benchmark==0.0.1rc3) (10.8.0)\n",
      "Requirement already satisfied: chest in /usr/local/lib/python3.10/dist-packages (from python-terrier>=0.13.0->pyterrier-alpha->tira->lsr-benchmark==0.0.1rc3) (0.2.3)\n",
      "Requirement already satisfied: jinja2 in /usr/local/lib/python3.10/dist-packages (from python-terrier>=0.13.0->pyterrier-alpha->tira->lsr-benchmark==0.0.1rc3) (3.1.6)\n",
      "Requirement already satisfied: joblib in /usr/local/lib/python3.10/dist-packages (from python-terrier>=0.13.0->pyterrier-alpha->tira->lsr-benchmark==0.0.1rc3) (1.5.2)\n",
      "Requirement already satisfied: pyjnius>=1.4.2 in /usr/local/lib/python3.10/dist-packages (from python-terrier>=0.13.0->pyterrier-alpha->tira->lsr-benchmark==0.0.1rc3) (1.7.0)\n",
      "Requirement already satisfied: deprecated in /usr/local/lib/python3.10/dist-packages (from python-terrier>=0.13.0->pyterrier-alpha->tira->lsr-benchmark==0.0.1rc3) (1.3.0)\n",
      "Requirement already satisfied: statsmodels in /usr/local/lib/python3.10/dist-packages (from python-terrier>=0.13.0->pyterrier-alpha->tira->lsr-benchmark==0.0.1rc3) (0.14.5)\n",
      "Requirement already satisfied: dill in /usr/local/lib/python3.10/dist-packages (from python-terrier>=0.13.0->pyterrier-alpha->tira->lsr-benchmark==0.0.1rc3) (0.4.0)\n",
      "Requirement already satisfied: pure-eval in /usr/local/lib/python3.10/dist-packages (from stack_data->ipython->tirex-tracker>=0.2.16->lsr-benchmark==0.0.1rc3) (0.2.3)\n",
      "Requirement already satisfied: asttokens>=2.1.0 in /usr/local/lib/python3.10/dist-packages (from stack_data->ipython->tirex-tracker>=0.2.16->lsr-benchmark==0.0.1rc3) (3.0.0)\n",
      "Requirement already satisfied: executing>=1.2.0 in /usr/local/lib/python3.10/dist-packages (from stack_data->ipython->tirex-tracker>=0.2.16->lsr-benchmark==0.0.1rc3) (2.2.1)\n",
      "Requirement already satisfied: heapdict in /usr/local/lib/python3.10/dist-packages (from chest->python-terrier>=0.13.0->pyterrier-alpha->tira->lsr-benchmark==0.0.1rc3) (1.0.1)\n",
      "Requirement already satisfied: wrapt<3,>=1.10 in /usr/local/lib/python3.10/dist-packages (from deprecated->python-terrier>=0.13.0->pyterrier-alpha->tira->lsr-benchmark==0.0.1rc3) (2.0.0)\n",
      "Requirement already satisfied: MarkupSafe>=2.0 in /usr/local/lib/python3.10/dist-packages (from jinja2->python-terrier>=0.13.0->pyterrier-alpha->tira->lsr-benchmark==0.0.1rc3) (3.0.3)\n",
      "Requirement already satisfied: patsy>=0.5.6 in /usr/local/lib/python3.10/dist-packages (from statsmodels->python-terrier>=0.13.0->pyterrier-alpha->tira->lsr-benchmark==0.0.1rc3) (1.0.2)\n",
      "Installing collected packages: lsr-benchmark\n",
      "  Attempting uninstall: lsr-benchmark\n",
      "    Found existing installation: lsr-benchmark 0.0.1rc3\n",
      "    Uninstalling lsr-benchmark-0.0.1rc3:\n",
      "      Successfully uninstalled lsr-benchmark-0.0.1rc3\n",
      "  Running setup.py develop for lsr-benchmark\n",
      "Successfully installed lsr-benchmark-0.0.1rc3\n",
      "\u001b[33mWARNING: Running pip as the 'root' user can result in broken permissions and conflicting behaviour with the system package manager. It is recommended to use a virtual environment instead: https://pip.pypa.io/warnings/venv\u001b[0m\u001b[33m\n",
      "\u001b[0m"
     ]
    }
   ],
   "source": [
    "!pip3 install -e .."
   ]
  },
  {
   "cell_type": "markdown",
   "id": "d85222c2",
   "metadata": {},
   "source": [
    "# Step 2: Get an Overview of the lsr-benchmark\n",
    "\n",
    "The lsr-benchmark comes with pre-computed embeddings of queries and documents of many lsr embedding models on many datasets to allow to easily evaluate efficiency and effectiveness accross diverse retrieval datasets with high-quality relevance judgments without the need to access the datasets. The `lsr-benchmark overview` command provides a complete overview."
   ]
  },
  {
   "cell_type": "code",
   "execution_count": 2,
   "id": "78cdb3c1",
   "metadata": {},
   "outputs": [
    {
     "name": "stdout",
     "output_type": "stream",
     "text": [
      "Overview of the lsr-benchmark:\n",
      "\n",
      "\t- 16 Datasets with 13 pre-computed embeddings (23151 MB)\n",
      "\n",
      "Datasets:\n",
      "                              Dataset    Text Avg. Embeddings\n",
      "           clueweb09/en/trec-web-2009  587 MB          152 MB\n",
      "           clueweb09/en/trec-web-2010  660 MB          127 MB\n",
      "           clueweb09/en/trec-web-2011  376 MB           87 MB\n",
      "           clueweb09/en/trec-web-2012  242 MB           69 MB\n",
      "      clueweb12/b13/trec-misinfo-2019  226 MB           74 MB\n",
      "              clueweb12/trec-web-2013  629 MB          124 MB\n",
      "              clueweb12/trec-web-2014  632 MB          121 MB\n",
      "  disks45/nocr/trec-robust-2004/fold1  154 MB           95 MB\n",
      "  disks45/nocr/trec-robust-2004/fold2  147 MB           92 MB\n",
      "  disks45/nocr/trec-robust-2004/fold3  154 MB           96 MB\n",
      "  disks45/nocr/trec-robust-2004/fold4  148 MB           90 MB\n",
      "  disks45/nocr/trec-robust-2004/fold5  159 MB           99 MB\n",
      "  msmarco-passage/trec-dl-2019/judged    5 MB           27 MB\n",
      "  msmarco-passage/trec-dl-2020/judged    8 MB           42 MB\n",
      "   msmarco-segment-v2.1/trec-rag-2024   90 MB          153 MB\n",
      "     tiny-example-20251002_0-training    0 MB            0 MB\n",
      "\n",
      "Embeddings:\n",
      "                                              Model Size (avg)\n",
      "                                    naver-splade-v3     124 MB\n",
      "                                       webis-splade     132 MB\n",
      "                         naver-splade-v3-distilbert     134 MB\n",
      "                             naver-splade_v2_distil     169 MB\n",
      "                                naver-splade-v3-doc     115 MB\n",
      "            castorini-unicoil-noexp-msmarco-passage      65 MB\n",
      "  opensearch-project-opensearch-neural-sparse-en...     134 MB\n",
      "  opensearch-project-opensearch-neural-sparse-en...     107 MB\n",
      "                            naver-splade-v3-lexical     144 MB\n",
      "  opensearch-project-opensearch-neural-sparse-en...     114 MB\n",
      "  opensearch-project-opensearch-neural-sparse-en...     112 MB\n",
      "                                             bge-m3      61 MB\n",
      "                                               bm25      38 MB\n"
     ]
    }
   ],
   "source": [
    "!lsr-benchmark overview"
   ]
  },
  {
   "cell_type": "markdown",
   "id": "ee735abf",
   "metadata": {},
   "source": [
    "# Step 3: Download pre-computed embeddings\n",
    "\n",
    "To easily run retrieval experiments on datases that are difficult to process (e.g., due to their size, such as the ClueWebs, or due to restricted access, such as Robust04), all embeddings are public, you can directly download and process them.\n",
    "\n",
    "The `lsr-benchmark download-embeddings` command downloads embeddings."
   ]
  },
  {
   "cell_type": "code",
   "execution_count": 6,
   "id": "9f2acb77",
   "metadata": {},
   "outputs": [
    {
     "name": "stdout",
     "output_type": "stream",
     "text": [
      "webis-splade-dl19-embeddings\n"
     ]
    }
   ],
   "source": [
    "!lsr-benchmark download-embeddings \\\n",
    "    --embedding webis-splade \\\n",
    "    --dataset msmarco-passage/trec-dl-2019/judged \\\n",
    "    --out webis-splade-dl19-embeddings"
   ]
  },
  {
   "cell_type": "markdown",
   "id": "a12af93a",
   "metadata": {},
   "source": [
    "Next, we can inspect the embeddings:"
   ]
  },
  {
   "cell_type": "code",
   "execution_count": 8,
   "id": "2538a077",
   "metadata": {},
   "outputs": [
    {
     "name": "stdout",
     "output_type": "stream",
     "text": [
      "\u001b[01;34mwebis-splade-dl19-embeddings\u001b[0m\n",
      "├── \u001b[01;34mdoc\u001b[0m\n",
      "│   ├── \u001b[00mdoc-embeddings.npz\u001b[0m\n",
      "│   ├── \u001b[00mdoc-ids.txt\u001b[0m\n",
      "│   └── \u001b[00mdoc-ir-metadata.yml\u001b[0m\n",
      "└── \u001b[01;34mquery\u001b[0m\n",
      "    ├── \u001b[00mquery-embeddings.npz\u001b[0m\n",
      "    ├── \u001b[00mquery-ids.txt\u001b[0m\n",
      "    └── \u001b[00mquery-ir-metadata.yml\u001b[0m\n",
      "\n",
      "2 directories, 6 files\n"
     ]
    }
   ],
   "source": [
    "!tree webis-splade-dl19-embeddings"
   ]
  },
  {
   "cell_type": "markdown",
   "id": "d27b1a4f",
   "metadata": {},
   "source": [
    "The `doc` subdirectory contains the document embeddings, the `query` subdirectory contains the query embeddings. The embeddings are persisted in the numpy format, and the corresponding `*-ir-metadata.yml` contain the efficiency measurements (e.g., resources like energy, CPU/RAM/GPU usage) for building the embeddings monitored with the [tirex-tracker](https://github.com/tira-io/tirex-tracker/)."
   ]
  }
 ],
 "metadata": {
  "kernelspec": {
   "display_name": "Python 3",
   "language": "python",
   "name": "python3"
  },
  "language_info": {
   "codemirror_mode": {
    "name": "ipython",
    "version": 3
   },
   "file_extension": ".py",
   "mimetype": "text/x-python",
   "name": "python",
   "nbconvert_exporter": "python",
   "pygments_lexer": "ipython3",
   "version": "3.10.12"
  }
 },
 "nbformat": 4,
 "nbformat_minor": 5
}
