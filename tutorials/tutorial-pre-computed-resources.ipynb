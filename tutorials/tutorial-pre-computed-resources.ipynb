{
 "cells": [
  {
   "cell_type": "markdown",
   "id": "980859ff",
   "metadata": {},
   "source": [
    "# Tutorial: Overview and Pre-Computed Resources of the lsr-benchmark\n",
    "\n",
    "This tutorial provides an overview of the `lsr-benchmark` and on the pre-computed resources that you can re-use in your experiments."
   ]
  }
 ],
 "metadata": {
  "language_info": {
   "name": "python"
  }
 },
 "nbformat": 4,
 "nbformat_minor": 5
}
