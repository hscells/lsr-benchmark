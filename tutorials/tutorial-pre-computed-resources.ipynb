{
 "cells": [
  {
   "cell_type": "markdown",
   "id": "980859ff",
   "metadata": {},
   "source": [
    "# Tutorial: Overview and Pre-Computed Resources of the lsr-benchmark\n",
    "\n",
    "This tutorial provides an overview of the `lsr-benchmark` and on the pre-computed resources that you can re-use in your experiments."
   ]
  },
  {
   "cell_type": "markdown",
   "id": "e38e142f",
   "metadata": {},
   "source": [
    "## Step 1: Install the lsr-benchmark"
   ]
  },
  {
   "cell_type": "code",
   "execution_count": null,
   "id": "3a82f0b7",
   "metadata": {},
   "outputs": [
    {
     "name": "stdout",
     "output_type": "stream",
     "text": [
      "Obtaining file:///workspaces/lsr_bench\n",
      "  Installing build dependencies ... \u001b[?25ldone\n",
      "\u001b[?25h  Checking if build backend supports build_editable ... \u001b[?25ldone\n",
      "\u001b[?25h  Getting requirements to build wheel ... \u001b[?25ldone\n",
      "\u001b[?25h  Preparing metadata (pyproject.toml) ... \u001b[?25ldone\n",
      "\u001b[?25hRequirement already satisfied: pyyaml in /usr/local/lib/python3.10/dist-packages (from lsr-benchmark==0.0.1rc3) (6.0.3)\n",
      "Requirement already satisfied: tirex-tracker>=0.2.16 in /usr/local/lib/python3.10/dist-packages (from lsr-benchmark==0.0.1rc3) (0.2.16)\n",
      "Requirement already satisfied: tira in /usr/local/lib/python3.10/dist-packages (from lsr-benchmark==0.0.1rc3) (0.0.182)\n",
      "Requirement already satisfied: tqdm in /usr/local/lib/python3.10/dist-packages (from lsr-benchmark==0.0.1rc3) (4.67.1)\n",
      "Requirement already satisfied: click in /usr/local/lib/python3.10/dist-packages (from lsr-benchmark==0.0.1rc3) (8.3.0)\n",
      "Requirement already satisfied: ir-datasets in /usr/local/lib/python3.10/dist-packages (from lsr-benchmark==0.0.1rc3) (0.5.9)\n",
      "Requirement already satisfied: ir-measures in /usr/local/lib/python3.10/dist-packages (from lsr-benchmark==0.0.1rc3) (0.4.1)\n",
      "Requirement already satisfied: typing-extensions~=4.0 in /usr/local/lib/python3.10/dist-packages (from tirex-tracker>=0.2.16->lsr-benchmark==0.0.1rc3) (4.15.0)\n",
      "Requirement already satisfied: importlib-resources~=6.0 in /usr/local/lib/python3.10/dist-packages (from tirex-tracker>=0.2.16->lsr-benchmark==0.0.1rc3) (6.5.2)\n",
      "Requirement already satisfied: ipython in /usr/local/lib/python3.10/dist-packages (from tirex-tracker>=0.2.16->lsr-benchmark==0.0.1rc3) (8.37.0)\n",
      "Requirement already satisfied: gitpython~=3.1 in /usr/local/lib/python3.10/dist-packages (from tirex-tracker>=0.2.16->lsr-benchmark==0.0.1rc3) (3.1.45)\n",
      "Requirement already satisfied: importlib-metadata~=8.0 in /usr/local/lib/python3.10/dist-packages (from tirex-tracker>=0.2.16->lsr-benchmark==0.0.1rc3) (8.7.0)\n",
      "Requirement already satisfied: lxml>=4.5.2 in /usr/local/lib/python3.10/dist-packages (from ir-datasets->lsr-benchmark==0.0.1rc3) (6.0.2)\n",
      "Requirement already satisfied: warc3-wet>=0.2.3 in /usr/local/lib/python3.10/dist-packages (from ir-datasets->lsr-benchmark==0.0.1rc3) (0.2.5)\n",
      "Requirement already satisfied: beautifulsoup4>=4.4.1 in /usr/local/lib/python3.10/dist-packages (from ir-datasets->lsr-benchmark==0.0.1rc3) (4.14.2)\n",
      "Requirement already satisfied: trec-car-tools>=2.5.4 in /usr/local/lib/python3.10/dist-packages (from ir-datasets->lsr-benchmark==0.0.1rc3) (2.6)\n",
      "Requirement already satisfied: warc3-wet-clueweb09>=0.2.5 in /usr/local/lib/python3.10/dist-packages (from ir-datasets->lsr-benchmark==0.0.1rc3) (0.2.5)\n",
      "Requirement already satisfied: zlib-state>=0.1.3 in /usr/local/lib/python3.10/dist-packages (from ir-datasets->lsr-benchmark==0.0.1rc3) (0.1.10)\n",
      "Requirement already satisfied: unlzw3>=0.2.1 in /usr/local/lib/python3.10/dist-packages (from ir-datasets->lsr-benchmark==0.0.1rc3) (0.2.3)\n",
      "Requirement already satisfied: inscriptis>=2.2.0 in /usr/local/lib/python3.10/dist-packages (from ir-datasets->lsr-benchmark==0.0.1rc3) (2.6.0)\n",
      "Requirement already satisfied: ijson>=3.1.3 in /usr/local/lib/python3.10/dist-packages (from ir-datasets->lsr-benchmark==0.0.1rc3) (3.4.0.post0)\n",
      "Requirement already satisfied: requests>=2.22.0 in /usr/local/lib/python3.10/dist-packages (from ir-datasets->lsr-benchmark==0.0.1rc3) (2.32.5)\n",
      "Requirement already satisfied: numpy>=1.18.1 in /usr/local/lib/python3.10/dist-packages (from ir-datasets->lsr-benchmark==0.0.1rc3) (2.2.6)\n",
      "Requirement already satisfied: lz4>=3.1.10 in /usr/local/lib/python3.10/dist-packages (from ir-datasets->lsr-benchmark==0.0.1rc3) (4.4.4)\n",
      "Requirement already satisfied: pytrec-eval-terrier>=0.5.5 in /usr/local/lib/python3.10/dist-packages (from ir-measures->lsr-benchmark==0.0.1rc3) (0.5.10)\n",
      "Requirement already satisfied: docker==7.*,>=7.1.0 in /usr/local/lib/python3.10/dist-packages (from tira->lsr-benchmark==0.0.1rc3) (7.1.0)\n",
      "Requirement already satisfied: packaging in /usr/local/lib/python3.10/dist-packages (from tira->lsr-benchmark==0.0.1rc3) (25.0)\n",
      "Requirement already satisfied: pyterrier-alpha in /usr/local/lib/python3.10/dist-packages (from tira->lsr-benchmark==0.0.1rc3) (0.16.3)\n",
      "Requirement already satisfied: pandas in /usr/local/lib/python3.10/dist-packages (from tira->lsr-benchmark==0.0.1rc3) (2.3.3)\n",
      "Requirement already satisfied: urllib3>=1.26.0 in /usr/local/lib/python3.10/dist-packages (from docker==7.*,>=7.1.0->tira->lsr-benchmark==0.0.1rc3) (2.5.0)\n",
      "Requirement already satisfied: charset_normalizer<4,>=2 in /usr/local/lib/python3.10/dist-packages (from requests>=2.22.0->ir-datasets->lsr-benchmark==0.0.1rc3) (3.4.4)\n",
      "Requirement already satisfied: certifi>=2017.4.17 in /usr/local/lib/python3.10/dist-packages (from requests>=2.22.0->ir-datasets->lsr-benchmark==0.0.1rc3) (2025.10.5)\n",
      "Requirement already satisfied: idna<4,>=2.5 in /usr/local/lib/python3.10/dist-packages (from requests>=2.22.0->ir-datasets->lsr-benchmark==0.0.1rc3) (3.11)\n",
      "Requirement already satisfied: soupsieve>1.2 in /usr/local/lib/python3.10/dist-packages (from beautifulsoup4>=4.4.1->ir-datasets->lsr-benchmark==0.0.1rc3) (2.8)\n",
      "Requirement already satisfied: gitdb<5,>=4.0.1 in /usr/local/lib/python3.10/dist-packages (from gitpython~=3.1->tirex-tracker>=0.2.16->lsr-benchmark==0.0.1rc3) (4.0.12)\n",
      "Requirement already satisfied: zipp>=3.20 in /usr/local/lib/python3.10/dist-packages (from importlib-metadata~=8.0->tirex-tracker>=0.2.16->lsr-benchmark==0.0.1rc3) (3.23.0)\n",
      "Requirement already satisfied: scipy>=1.1.0 in /usr/local/lib/python3.10/dist-packages (from pytrec-eval-terrier>=0.5.5->ir-measures->lsr-benchmark==0.0.1rc3) (1.15.3)\n",
      "Requirement already satisfied: cbor>=1.0.0 in /usr/local/lib/python3.10/dist-packages (from trec-car-tools>=2.5.4->ir-datasets->lsr-benchmark==0.0.1rc3) (1.0.0)\n",
      "Requirement already satisfied: stack_data in /usr/local/lib/python3.10/dist-packages (from ipython->tirex-tracker>=0.2.16->lsr-benchmark==0.0.1rc3) (0.6.3)\n",
      "Requirement already satisfied: pygments>=2.4.0 in /usr/local/lib/python3.10/dist-packages (from ipython->tirex-tracker>=0.2.16->lsr-benchmark==0.0.1rc3) (2.19.2)\n",
      "Requirement already satisfied: traitlets>=5.13.0 in /usr/local/lib/python3.10/dist-packages (from ipython->tirex-tracker>=0.2.16->lsr-benchmark==0.0.1rc3) (5.14.3)\n",
      "Requirement already satisfied: jedi>=0.16 in /usr/local/lib/python3.10/dist-packages (from ipython->tirex-tracker>=0.2.16->lsr-benchmark==0.0.1rc3) (0.19.2)\n",
      "Requirement already satisfied: exceptiongroup in /usr/local/lib/python3.10/dist-packages (from ipython->tirex-tracker>=0.2.16->lsr-benchmark==0.0.1rc3) (1.3.0)\n",
      "Requirement already satisfied: prompt_toolkit<3.1.0,>=3.0.41 in /usr/local/lib/python3.10/dist-packages (from ipython->tirex-tracker>=0.2.16->lsr-benchmark==0.0.1rc3) (3.0.52)\n",
      "Requirement already satisfied: pexpect>4.3 in /usr/local/lib/python3.10/dist-packages (from ipython->tirex-tracker>=0.2.16->lsr-benchmark==0.0.1rc3) (4.9.0)\n",
      "Requirement already satisfied: decorator in /usr/local/lib/python3.10/dist-packages (from ipython->tirex-tracker>=0.2.16->lsr-benchmark==0.0.1rc3) (5.2.1)\n",
      "Requirement already satisfied: matplotlib-inline in /usr/local/lib/python3.10/dist-packages (from ipython->tirex-tracker>=0.2.16->lsr-benchmark==0.0.1rc3) (0.2.1)\n",
      "Requirement already satisfied: tzdata>=2022.7 in /usr/local/lib/python3.10/dist-packages (from pandas->tira->lsr-benchmark==0.0.1rc3) (2025.2)\n",
      "Requirement already satisfied: python-dateutil>=2.8.2 in /usr/local/lib/python3.10/dist-packages (from pandas->tira->lsr-benchmark==0.0.1rc3) (2.9.0.post0)\n",
      "Requirement already satisfied: pytz>=2020.1 in /usr/local/lib/python3.10/dist-packages (from pandas->tira->lsr-benchmark==0.0.1rc3) (2025.2)\n",
      "Requirement already satisfied: python-terrier>=0.13.0 in /usr/local/lib/python3.10/dist-packages (from pyterrier-alpha->tira->lsr-benchmark==0.0.1rc3) (0.13.1)\n",
      "Requirement already satisfied: smmap<6,>=3.0.1 in /usr/local/lib/python3.10/dist-packages (from gitdb<5,>=4.0.1->gitpython~=3.1->tirex-tracker>=0.2.16->lsr-benchmark==0.0.1rc3) (5.0.2)\n",
      "Requirement already satisfied: parso<0.9.0,>=0.8.4 in /usr/local/lib/python3.10/dist-packages (from jedi>=0.16->ipython->tirex-tracker>=0.2.16->lsr-benchmark==0.0.1rc3) (0.8.5)\n",
      "Requirement already satisfied: ptyprocess>=0.5 in /usr/local/lib/python3.10/dist-packages (from pexpect>4.3->ipython->tirex-tracker>=0.2.16->lsr-benchmark==0.0.1rc3) (0.7.0)\n",
      "Requirement already satisfied: wcwidth in /usr/local/lib/python3.10/dist-packages (from prompt_toolkit<3.1.0,>=3.0.41->ipython->tirex-tracker>=0.2.16->lsr-benchmark==0.0.1rc3) (0.2.14)\n",
      "Requirement already satisfied: six>=1.5 in /usr/local/lib/python3.10/dist-packages (from python-dateutil>=2.8.2->pandas->tira->lsr-benchmark==0.0.1rc3) (1.17.0)\n",
      "Requirement already satisfied: dill in /usr/local/lib/python3.10/dist-packages (from python-terrier>=0.13.0->pyterrier-alpha->tira->lsr-benchmark==0.0.1rc3) (0.4.0)\n",
      "Requirement already satisfied: deprecated in /usr/local/lib/python3.10/dist-packages (from python-terrier>=0.13.0->pyterrier-alpha->tira->lsr-benchmark==0.0.1rc3) (1.3.0)\n",
      "Requirement already satisfied: statsmodels in /usr/local/lib/python3.10/dist-packages (from python-terrier>=0.13.0->pyterrier-alpha->tira->lsr-benchmark==0.0.1rc3) (0.14.5)\n",
      "Requirement already satisfied: joblib in /usr/local/lib/python3.10/dist-packages (from python-terrier>=0.13.0->pyterrier-alpha->tira->lsr-benchmark==0.0.1rc3) (1.5.2)\n",
      "Requirement already satisfied: more-itertools in /usr/local/lib/python3.10/dist-packages (from python-terrier>=0.13.0->pyterrier-alpha->tira->lsr-benchmark==0.0.1rc3) (10.8.0)\n",
      "Requirement already satisfied: chest in /usr/local/lib/python3.10/dist-packages (from python-terrier>=0.13.0->pyterrier-alpha->tira->lsr-benchmark==0.0.1rc3) (0.2.3)\n",
      "Requirement already satisfied: jinja2 in /usr/local/lib/python3.10/dist-packages (from python-terrier>=0.13.0->pyterrier-alpha->tira->lsr-benchmark==0.0.1rc3) (3.1.6)\n",
      "Requirement already satisfied: pyjnius>=1.4.2 in /usr/local/lib/python3.10/dist-packages (from python-terrier>=0.13.0->pyterrier-alpha->tira->lsr-benchmark==0.0.1rc3) (1.7.0)\n",
      "Requirement already satisfied: asttokens>=2.1.0 in /usr/local/lib/python3.10/dist-packages (from stack_data->ipython->tirex-tracker>=0.2.16->lsr-benchmark==0.0.1rc3) (3.0.0)\n",
      "Requirement already satisfied: pure-eval in /usr/local/lib/python3.10/dist-packages (from stack_data->ipython->tirex-tracker>=0.2.16->lsr-benchmark==0.0.1rc3) (0.2.3)\n",
      "Requirement already satisfied: executing>=1.2.0 in /usr/local/lib/python3.10/dist-packages (from stack_data->ipython->tirex-tracker>=0.2.16->lsr-benchmark==0.0.1rc3) (2.2.1)\n",
      "Requirement already satisfied: heapdict in /usr/local/lib/python3.10/dist-packages (from chest->python-terrier>=0.13.0->pyterrier-alpha->tira->lsr-benchmark==0.0.1rc3) (1.0.1)\n",
      "Requirement already satisfied: wrapt<3,>=1.10 in /usr/local/lib/python3.10/dist-packages (from deprecated->python-terrier>=0.13.0->pyterrier-alpha->tira->lsr-benchmark==0.0.1rc3) (2.0.0)\n",
      "Requirement already satisfied: MarkupSafe>=2.0 in /usr/local/lib/python3.10/dist-packages (from jinja2->python-terrier>=0.13.0->pyterrier-alpha->tira->lsr-benchmark==0.0.1rc3) (3.0.3)\n",
      "Requirement already satisfied: patsy>=0.5.6 in /usr/local/lib/python3.10/dist-packages (from statsmodels->python-terrier>=0.13.0->pyterrier-alpha->tira->lsr-benchmark==0.0.1rc3) (1.0.2)\n",
      "Installing collected packages: lsr-benchmark\n",
      "  Attempting uninstall: lsr-benchmark\n",
      "    Found existing installation: lsr-benchmark 0.0.1rc3\n",
      "    Uninstalling lsr-benchmark-0.0.1rc3:\n",
      "      Successfully uninstalled lsr-benchmark-0.0.1rc3\n",
      "  Running setup.py develop for lsr-benchmark\n",
      "Successfully installed lsr-benchmark-0.0.1rc3\n",
      "\u001b[33mWARNING: Running pip as the 'root' user can result in broken permissions and conflicting behaviour with the system package manager. It is recommended to use a virtual environment instead: https://pip.pypa.io/warnings/venv\u001b[0m\u001b[33m\n",
      "\u001b[0m"
     ]
    }
   ],
   "source": [
    "!pip3 install lsr-benchmark"
   ]
  },
  {
   "cell_type": "markdown",
   "id": "d85222c2",
   "metadata": {},
   "source": [
    "# Step 2: Get an Overview of the lsr-benchmark\n",
    "\n",
    "The lsr-benchmark comes with pre-computed embeddings of queries and documents of many lsr embedding models on many datasets to allow to easily evaluate efficiency and effectiveness accross diverse retrieval datasets with high-quality relevance judgments without the need to access the datasets. The `lsr-benchmark overview` command provides a complete overview."
   ]
  },
  {
   "cell_type": "code",
   "execution_count": 2,
   "id": "78cdb3c1",
   "metadata": {},
   "outputs": [
    {
     "name": "stdout",
     "output_type": "stream",
     "text": [
      "Overview of the lsr-benchmark:\n",
      "\n",
      "\t- 16 Datasets with 13 pre-computed embeddings (23151 MB)\n",
      "\n",
      "Datasets:\n",
      "                              Dataset    Text Avg. Embeddings\n",
      "           clueweb09/en/trec-web-2009  587 MB          152 MB\n",
      "           clueweb09/en/trec-web-2010  660 MB          127 MB\n",
      "           clueweb09/en/trec-web-2011  376 MB           87 MB\n",
      "           clueweb09/en/trec-web-2012  242 MB           69 MB\n",
      "      clueweb12/b13/trec-misinfo-2019  226 MB           74 MB\n",
      "              clueweb12/trec-web-2013  629 MB          124 MB\n",
      "              clueweb12/trec-web-2014  632 MB          121 MB\n",
      "  disks45/nocr/trec-robust-2004/fold1  154 MB           95 MB\n",
      "  disks45/nocr/trec-robust-2004/fold2  147 MB           92 MB\n",
      "  disks45/nocr/trec-robust-2004/fold3  154 MB           96 MB\n",
      "  disks45/nocr/trec-robust-2004/fold4  148 MB           90 MB\n",
      "  disks45/nocr/trec-robust-2004/fold5  159 MB           99 MB\n",
      "  msmarco-passage/trec-dl-2019/judged    5 MB           27 MB\n",
      "  msmarco-passage/trec-dl-2020/judged    8 MB           42 MB\n",
      "   msmarco-segment-v2.1/trec-rag-2024   90 MB          153 MB\n",
      "     tiny-example-20251002_0-training    0 MB            0 MB\n",
      "\n",
      "Embeddings:\n",
      "                                              Model Size (avg)\n",
      "                                    naver-splade-v3     124 MB\n",
      "                                       webis-splade     132 MB\n",
      "                         naver-splade-v3-distilbert     134 MB\n",
      "                             naver-splade_v2_distil     169 MB\n",
      "                                naver-splade-v3-doc     115 MB\n",
      "            castorini-unicoil-noexp-msmarco-passage      65 MB\n",
      "  opensearch-project-opensearch-neural-sparse-en...     134 MB\n",
      "  opensearch-project-opensearch-neural-sparse-en...     107 MB\n",
      "                            naver-splade-v3-lexical     144 MB\n",
      "  opensearch-project-opensearch-neural-sparse-en...     114 MB\n",
      "  opensearch-project-opensearch-neural-sparse-en...     112 MB\n",
      "                                             bge-m3      61 MB\n",
      "                                               bm25      38 MB\n"
     ]
    }
   ],
   "source": [
    "!lsr-benchmark overview"
   ]
  },
  {
   "cell_type": "markdown",
   "id": "8b08b999",
   "metadata": {},
   "source": [
    "# Step 3: Load pre-computed Embeddings with the ir-datasets integration\n",
    "\n",
    "To easily run retrieval engines on datases that are difficult to process (e.g., due to their size, such as the ClueWebs, or due to restricted access, such as Robust04), all embeddings are public, and we have an ir_datasets compatible API to download and process them."
   ]
  },
  {
   "cell_type": "code",
   "execution_count": 1,
   "id": "cd1d2a7b",
   "metadata": {},
   "outputs": [
    {
     "name": "stderr",
     "output_type": "stream",
     "text": [
      "load doc embeddings: 100%|██████████| 109683/109683 [00:00<00:00, 1472573.83it/s]\n",
      "load doc embeddings: 100%|██████████| 50/50 [00:00<00:00, 327168.80it/s]"
     ]
    },
    {
     "name": "stdout",
     "output_type": "stream",
     "text": [
      "doc_embeddings[0]:  ('clueweb09-en0001-78-11787', array(['1007', '1025', '1999', '2014', '2026', '2028', '2032', '2040',\n",
      "       '2054', '2055', '2099', '2100', '2107', '2111', '2115', '2126',\n",
      "       '2157', '2173', '2185', '2190', '2194', '2204', '2208', '2237',\n",
      "       '2298', '2367', '2424', '2428', '2437', '2449', '2451', '2469',\n",
      "       '2476', '2495', '2559', '2591', '2604', '2609', '2651', '2672',\n",
      "       '2686', '2689', '2695', '2732', '2762', '2780', '2782', '2801',\n",
      "       '2812', '2831', '2833', '2862', '2863', '2869', '2897', '2914',\n",
      "       '2923', '2932', '2933', '2941', '3007', '3012', '3029', '3068',\n",
      "       '3075', '3105', '3112', '3116', '3124', '3144', '3171', '3204',\n",
      "       '3214', '3226', '3309', '3340', '3443', '3451', '3496', '3528',\n",
      "       '3573', '3574', '3644', '3658', '3720', '3747', '3749', '3762',\n",
      "       '3784', '3802', '3829', '3847', '3858', '3892', '3913', '3921',\n",
      "       '3958', '3971', '4012', '4034', '4037', '4070', '4105', '4113',\n",
      "       '4114', '4183', '4189', '4219', '4245', '4252', '4254', '4256',\n",
      "       '4310', '4348', '4357', '4380', '4411', '4418', '4460', '4489',\n",
      "       '4511', '4547', '4596', '4624', '4646', '4674', '4682', '4684',\n",
      "       '4707', '4712', '4766', '4790', '4813', '4818', '4825', '4840',\n",
      "       '4865', '4931', '5007', '5029', '5038', '5060', '5073', '5086',\n",
      "       '5103', '5117', '5126', '5130', '5161', '5163', '5199', '5386',\n",
      "       '5495', '5589', '5624', '5656', '5664', '5673', '5677', '5740',\n",
      "       '5741', '5821', '5826', '5841', '5882', '5952', '5966', '5971',\n",
      "       '6025', '6054', '6088', '6107', '6115', '6125', '6142', '6148',\n",
      "       '6187', '6226', '6237', '6274', '6377', '6383', '6494', '6666',\n",
      "       '6695', '6813', '6845', '6940', '7029', '7043', '7058', '7258',\n",
      "       '7413', '7470', '7492', '7519', '7546', '7578', '7601', '7636',\n",
      "       '7691', '7692', '7748', '7801', '7809', '7884', '7904', '7925',\n",
      "       '8092', '8107', '8175', '8196', '8213', '8346', '8360', '8383',\n",
      "       '8390', '8395', '8404', '8434', '8466', '8499', '8578', '8624',\n",
      "       '8627', '8733', '8840', '8858', '8860', '8906', '9128', '9130',\n",
      "       '9179', '9228', '9275', '9279', '9338', '9340', '9356', '9445',\n",
      "       '9518', '9529', '9542', '9574', '9580', '9656', '9874', '9887',\n",
      "       '9942', '9943', '9945', '10017', '10026', '10093', '10192',\n",
      "       '10287', '10349', '10439', '10486', '10502', '10618', '10636',\n",
      "       '10780', '10887', '10911', '10922', '10939', '11128', '11194',\n",
      "       '11366', '11463', '11643', '11724', '11763', '11946', '12026',\n",
      "       '12092', '12109', '12319', '12379', '12382', '12433', '12610',\n",
      "       '12706', '12762', '12906', '12955', '12975', '13099', '13102',\n",
      "       '13296', '13357', '13445', '13746', '14048', '14073', '14169',\n",
      "       '14229', '14286', '14378', '14495', '14558', '14622', '14670',\n",
      "       '14686', '14739', '14786', '14877', '14970', '15680', '15809',\n",
      "       '15902', '15942', '15961', '16333', '16716', '16935', '17037',\n",
      "       '17041', '17235', '17738', '17856', '17907', '18014', '18275',\n",
      "       '18302', '18400', '18612', '18640', '18678', '18874', '19043',\n",
      "       '19843', '20125', '20380', '20438', '20528', '20687', '21934',\n",
      "       '21947', '22124', '22496', '22797', '22818', '22859', '22979',\n",
      "       '23058', '23157', '23464', '23991', '24299', '24465', '24704',\n",
      "       '24846', '24908', '25055', '25526', '26051', '26226', '27101',\n",
      "       '27135', '27291', '27446', '27520', '28737', '28908', '28951',\n",
      "       '29321', '29344'], dtype='<U30'), array([9.47578177e-02, 2.50363797e-02, 2.61147261e-01, 4.07847390e-02,\n",
      "       1.02732547e-01, 2.24432915e-01, 1.09293625e-01, 2.20644832e-01,\n",
      "       2.12809015e-02, 9.03607011e-02, 1.20792592e+00, 5.02519488e-01,\n",
      "       1.72031727e-02, 7.11847795e-03, 1.62071109e-01, 3.68147641e-01,\n",
      "       8.04715812e-01, 1.95379898e-01, 4.15876389e-01, 2.42049441e-01,\n",
      "       2.43745938e-01, 1.15941219e-01, 2.54696518e-01, 1.53556302e-01,\n",
      "       4.30771887e-01, 1.26608126e-02, 5.01742244e-01, 4.53388274e-01,\n",
      "       4.29439664e-01, 2.52324700e-01, 7.18279034e-02, 5.06650284e-02,\n",
      "       7.52575338e-01, 4.62187320e-01, 1.99851438e-01, 6.65492833e-01,\n",
      "       1.46189248e-02, 2.71464318e-01, 7.90800810e-01, 9.07264873e-02,\n",
      "       1.28070402e+00, 4.08516191e-02, 8.17222536e-01, 6.02932572e-01,\n",
      "       1.59524187e-01, 2.44475473e-02, 4.69048262e-01, 2.24077001e-01,\n",
      "       3.76916766e-01, 7.85032345e-04, 1.02939811e-02, 1.83073223e-01,\n",
      "       9.11390603e-01, 7.07150757e-01, 3.34871858e-01, 3.04888133e-02,\n",
      "       7.97465444e-01, 1.66003093e-01, 1.78623408e-01, 1.63892835e-01,\n",
      "       4.65619713e-02, 9.69890058e-01, 1.46420032e-01, 5.05570173e-01,\n",
      "       8.44333887e-01, 6.65573299e-01, 3.40015501e-01, 2.11557508e-01,\n",
      "       4.14767414e-02, 2.17653781e-01, 1.64931849e-01, 6.67738020e-01,\n",
      "       6.32705353e-03, 6.16889775e-01, 8.13375533e-01, 3.10493261e-01,\n",
      "       7.07826167e-02, 3.13891709e-01, 1.54081851e-01, 8.17276761e-02,\n",
      "       1.14979975e-01, 7.58197963e-01, 1.55168787e-01, 7.20214963e-01,\n",
      "       3.45121562e-01, 6.62235141e-01, 1.68889970e-01, 5.58683455e-01,\n",
      "       1.95740554e-02, 4.19526577e-01, 9.45572972e-01, 2.55069375e-01,\n",
      "       2.74568647e-01, 3.76470447e-01, 1.53037935e-01, 1.44164652e-01,\n",
      "       2.55855434e-02, 1.28420100e-01, 2.74063915e-01, 3.95665318e-02,\n",
      "       6.98193967e-01, 7.55588830e-01, 7.97408462e-01, 9.41243917e-02,\n",
      "       9.72798914e-02, 4.68395650e-01, 6.10941112e-01, 3.32473546e-01,\n",
      "       8.36213112e-01, 1.15036145e-01, 4.44732726e-01, 6.98009193e-01,\n",
      "       2.69007981e-02, 3.90146405e-01, 2.99565680e-02, 8.15477073e-01,\n",
      "       5.90159535e-01, 8.91059160e-01, 1.35360146e-02, 1.03706308e-01,\n",
      "       1.43546909e-01, 3.92165333e-01, 1.86449781e-01, 1.38743579e-01,\n",
      "       6.70180544e-02, 4.82499778e-01, 9.32780743e-01, 4.31393027e-01,\n",
      "       3.09386849e-01, 8.38829502e-02, 2.47672260e-01, 5.41767180e-01,\n",
      "       4.38097566e-02, 2.16829941e-01, 7.12536216e-01, 4.31639910e-01,\n",
      "       4.81414199e-01, 8.88465997e-03, 3.50152701e-02, 4.13099825e-02,\n",
      "       8.64926577e-01, 1.11916035e-01, 2.26400927e-01, 2.62415498e-01,\n",
      "       2.03875825e-02, 1.11730039e-01, 6.99009836e-01, 4.58708778e-03,\n",
      "       3.41552436e-01, 2.77609855e-01, 1.28867611e-01, 1.39205545e-01,\n",
      "       4.12919074e-01, 1.22814514e-02, 2.02678666e-02, 5.42685151e-01,\n",
      "       2.24441453e-03, 6.97951019e-01, 2.44773790e-01, 1.92355826e-01,\n",
      "       4.26256210e-02, 6.61563175e-03, 9.11854327e-01, 5.67059636e-01,\n",
      "       1.64261386e-01, 4.58123624e-01, 4.39304203e-01, 6.76924437e-02,\n",
      "       2.31313407e-01, 1.40180409e-01, 3.32973391e-01, 1.90416634e-01,\n",
      "       3.44184041e-01, 1.66287959e-01, 4.31997597e-01, 4.67318445e-02,\n",
      "       1.22719333e-01, 5.18702343e-02, 1.19463563e-01, 9.58883539e-02,\n",
      "       6.64144084e-02, 2.69214600e-01, 8.78865838e-01, 2.84838397e-02,\n",
      "       2.03442529e-01, 5.91401644e-02, 3.85290720e-02, 7.65785109e-03,\n",
      "       3.37786883e-01, 1.16570562e-01, 3.67117345e-01, 8.87945414e-01,\n",
      "       4.05040085e-01, 1.78882718e-01, 5.88063836e-01, 4.85946119e-01,\n",
      "       5.14186956e-02, 1.26998782e+00, 5.19918203e-01, 2.84250099e-02,\n",
      "       6.14670292e-02, 1.96038961e-01, 3.85340936e-02, 2.61806309e-01,\n",
      "       1.97556809e-01, 6.53802650e-03, 6.78852320e-01, 4.55453306e-01,\n",
      "       3.00947696e-01, 2.50403941e-01, 1.16288118e-01, 7.95711577e-02,\n",
      "       7.87686527e-01, 1.86200410e-01, 7.38807842e-02, 2.08894596e-01,\n",
      "       7.51158805e-04, 6.63603609e-03, 3.31298895e-02, 3.35479945e-01,\n",
      "       4.76762861e-01, 3.94756421e-02, 4.57907617e-01, 5.54155046e-03,\n",
      "       7.40805864e-02, 9.61858034e-03, 4.71055247e-02, 9.61622968e-02,\n",
      "       6.52128458e-01, 1.71405959e+00, 4.37848680e-02, 3.42320502e-02,\n",
      "       9.16614458e-02, 1.44176275e-01, 5.17612755e-01, 5.81223547e-01,\n",
      "       1.73693784e-02, 1.38284415e-01, 2.67031770e-02, 2.10777670e-01,\n",
      "       1.43275350e-01, 8.49143937e-02, 1.30702257e-01, 2.52597053e-02,\n",
      "       1.11828253e-01, 7.22988069e-01, 8.46307650e-02, 9.00660753e-02,\n",
      "       5.31025469e-01, 2.53076367e-02, 1.38083637e-01, 1.70438122e-02,\n",
      "       3.85142684e-01, 3.42993051e-01, 1.21696323e-01, 3.54408771e-02,\n",
      "       4.85775694e-02, 1.32218868e-01, 7.06300810e-02, 7.95095086e-01,\n",
      "       8.36060867e-02, 2.28897154e-01, 1.26273528e-01, 5.86938500e-01,\n",
      "       2.45297760e-01, 8.84146452e-01, 2.11281538e-01, 4.95239258e-01,\n",
      "       6.34348154e-01, 1.69604599e-01, 2.56406188e-01, 1.16239488e-01,\n",
      "       3.62644702e-01, 3.61481547e-01, 2.92908996e-01, 7.14352205e-02,\n",
      "       1.69176430e-01, 1.01983809e+00, 4.88445729e-01, 1.58863422e-02,\n",
      "       6.61584958e-02, 4.68397498e-01, 1.03130795e-01, 2.66228199e-01,\n",
      "       4.43272293e-01, 5.22289518e-03, 7.07512021e-01, 2.09802203e-02,\n",
      "       1.92704871e-01, 1.10175419e+00, 5.92576742e-01, 7.81484321e-02,\n",
      "       2.53074259e-01, 1.17603827e+00, 8.94060194e-01, 1.02541007e-01,\n",
      "       1.58840399e-02, 4.51095682e-03, 3.79234016e-01, 1.09669104e-01,\n",
      "       4.62575644e-01, 2.71184444e-01, 2.09910333e-01, 4.65200126e-01,\n",
      "       7.07818508e-01, 4.53485072e-01, 1.14400797e-02, 6.85808301e-01,\n",
      "       3.42342585e-01, 3.81877601e-01, 1.46795928e-01, 5.67005351e-02,\n",
      "       3.23707536e-02, 1.22828484e+00, 1.99702114e-01, 1.75593331e-01,\n",
      "       3.74998315e-03, 3.34330648e-02, 3.29651386e-02, 2.70494014e-01,\n",
      "       2.45008081e-01, 1.14863336e+00, 1.97417513e-01, 1.88474268e-01,\n",
      "       1.60323188e-01, 1.90212637e-01, 1.31712079e+00, 8.18134785e-01,\n",
      "       1.57610431e-01, 2.15457112e-01, 3.54452915e-02, 9.98215005e-02,\n",
      "       8.61321911e-02, 6.19218826e-01, 6.87095523e-01, 1.05591983e-01,\n",
      "       3.34564686e-01, 1.59448743e-01, 1.33682036e+00, 7.35093832e-01,\n",
      "       1.57067493e-01, 5.24366647e-03, 6.43584644e-03, 1.78671405e-01,\n",
      "       3.78935665e-01, 1.65130332e-01, 2.03169100e-02, 2.64260862e-02,\n",
      "       1.53128237e-01, 1.44013953e+00, 3.52282897e-02, 1.04750447e-01,\n",
      "       2.11942419e-02, 8.06377456e-02, 4.54340875e-01, 1.38474807e-01,\n",
      "       2.73648277e-02, 2.95055866e-01, 1.82359591e-02, 2.42739365e-01,\n",
      "       4.68313038e-01, 3.01700860e-01, 4.47649844e-02, 1.86832666e-01,\n",
      "       3.53436828e-01, 1.21080101e-01, 2.90362053e-02, 4.53360528e-02,\n",
      "       1.50958955e+00], dtype=float32))\n",
      "query_embeddings[0]:  ('1', array(['1025', '2010', '2020', '2024', '2035', '2040', '2111', '2116',\n",
      "       '2136', '2155', '2177', '2266', '2268', '2313', '2336', '2343',\n",
      "       '2381', '2406', '2451', '2466', '2500', '2554', '2703', '2862',\n",
      "       '2945', '3008', '3029', '3075', '3166', '3232', '3269', '3392',\n",
      "       '3441', '3589', '3628', '3633', '3817', '3888', '3910', '4245',\n",
      "       '4398', '4535', '4676', '4707', '4761', '4922', '5143', '5321',\n",
      "       '5542', '5615', '5917', '7117', '7280', '7900', '8027', '8112',\n",
      "       '8213', '8481', '9129', '9504', '11377', '11760', '11988', '12608',\n",
      "       '12626', '12988', '13032', '14800', '18240', '24615', '26684'],\n",
      "      dtype='<U30'), array([0.3416533 , 0.25547224, 0.44144708, 0.5645602 , 0.15198867,\n",
      "       0.24502082, 0.07504576, 0.02444641, 0.27728733, 1.8360584 ,\n",
      "       0.12331001, 0.24506192, 0.8245863 , 0.01307621, 0.35894883,\n",
      "       0.76118004, 1.1429012 , 0.05475817, 0.15020196, 0.5058475 ,\n",
      "       0.15713781, 0.0408701 , 0.7905489 , 0.22691771, 1.5312065 ,\n",
      "       0.6981867 , 0.13215473, 0.0875845 , 0.02400382, 0.49721026,\n",
      "       0.10815246, 1.9293711 , 0.05413712, 0.5023247 , 1.4713554 ,\n",
      "       0.11479782, 0.9125744 , 0.11993095, 0.11219588, 0.23511523,\n",
      "       0.00743272, 0.37482896, 0.05134653, 0.2880823 , 0.18168475,\n",
      "       0.04861572, 0.1019842 , 0.4676783 , 0.48432893, 0.39407337,\n",
      "       0.40731362, 0.11597323, 0.38601   , 0.313507  , 0.11583172,\n",
      "       2.1275928 , 0.402038  , 0.18587536, 0.34958884, 0.1955208 ,\n",
      "       0.47268406, 0.09997524, 0.43714583, 0.33247304, 0.0053851 ,\n",
      "       0.19091325, 0.3925429 , 0.18258551, 0.28710324, 0.35704923,\n",
      "       0.20671605], dtype=float32))\n"
     ]
    },
    {
     "name": "stderr",
     "output_type": "stream",
     "text": [
      "\n"
     ]
    }
   ],
   "source": [
    "import ir_datasets\n",
    "from lsr_benchmark import register_to_ir_datasets\n",
    "\n",
    "register_to_ir_datasets(\"clueweb09/en/trec-web-2009\")\n",
    "\n",
    "dataset = ir_datasets.load(\"lsr-benchmark/clueweb09/en/trec-web-2009\")\n",
    "\n",
    "doc_embeddings = dataset.doc_embeddings(model_name=\"lightning-ir/webis/splade\")\n",
    "query_embeddings = dataset.query_embeddings(model_name=\"lightning-ir/webis/splade\")\n",
    "\n",
    "print(\"doc_embeddings[0]: \", doc_embeddings[0])\n",
    "print(\"query_embeddings[0]: \", query_embeddings[0])"
   ]
  },
  {
   "cell_type": "markdown",
   "id": "ee735abf",
   "metadata": {},
   "source": [
    "# Step 4: Download pre-computed Embeddings via the CLI\n",
    "\n",
    "To easily run retrieval experiments on datases that are difficult to process (e.g., due to their size, such as the ClueWebs, or due to restricted access, such as Robust04), all embeddings are public, you can directly download and process them.\n",
    "\n",
    "The `lsr-benchmark download-embeddings` command downloads embeddings."
   ]
  },
  {
   "cell_type": "code",
   "execution_count": null,
   "id": "9f2acb77",
   "metadata": {},
   "outputs": [
    {
     "name": "stdout",
     "output_type": "stream",
     "text": [
      "webis-splade-dl19-embeddings\n"
     ]
    }
   ],
   "source": [
    "!lsr-benchmark download-embeddings \\\n",
    "    --embedding webis-splade \\\n",
    "    --dataset msmarco-passage/trec-dl-2019/judged \\\n",
    "    --out webis-splade-dl19-embeddings"
   ]
  },
  {
   "cell_type": "markdown",
   "id": "a12af93a",
   "metadata": {},
   "source": [
    "Next, we can inspect the embeddings:"
   ]
  },
  {
   "cell_type": "code",
   "execution_count": 4,
   "id": "2538a077",
   "metadata": {},
   "outputs": [
    {
     "name": "stdout",
     "output_type": "stream",
     "text": [
      "\u001b[01;34mwebis-splade-dl19-embeddings\u001b[0m\n",
      "├── \u001b[01;34mdoc\u001b[0m\n",
      "│   ├── \u001b[00mdoc-embeddings.npz\u001b[0m\n",
      "│   ├── \u001b[00mdoc-ids.txt\u001b[0m\n",
      "│   └── \u001b[00mdoc-ir-metadata.yml\u001b[0m\n",
      "└── \u001b[01;34mquery\u001b[0m\n",
      "    ├── \u001b[00mquery-embeddings.npz\u001b[0m\n",
      "    ├── \u001b[00mquery-ids.txt\u001b[0m\n",
      "    └── \u001b[00mquery-ir-metadata.yml\u001b[0m\n",
      "\n",
      "2 directories, 6 files\n"
     ]
    }
   ],
   "source": [
    "!tree webis-splade-dl19-embeddings"
   ]
  },
  {
   "cell_type": "markdown",
   "id": "d27b1a4f",
   "metadata": {},
   "source": [
    "The `doc` subdirectory contains the document embeddings, the `query` subdirectory contains the query embeddings. The embeddings are persisted in the numpy format, and the corresponding `*-ir-metadata.yml` contain the efficiency measurements (e.g., resources like energy, CPU/RAM/GPU usage) for building the embeddings monitored with the [tirex-tracker](https://github.com/tira-io/tirex-tracker/)."
   ]
  },
  {
   "cell_type": "markdown",
   "id": "6877f570",
   "metadata": {},
   "source": [
    "# Step 5: Download Runs\n",
    "\n",
    "To allow to compare retrieval engines you can download the public ones that are submitted to [tira](https://www.tira.io/task-overview/lsr-benchmark).\n",
    "\n",
    "The `lsr-benchmark download-run` command downloads embeddings."
   ]
  },
  {
   "cell_type": "code",
   "execution_count": null,
   "id": "46ef5f7d",
   "metadata": {},
   "outputs": [
    {
     "name": "stdout",
     "output_type": "stream",
     "text": [
      "seismic-on-dl19-webis-splade\n"
     ]
    }
   ],
   "source": [
    "!lsr-benchmark download-run \\\n",
    "    --embedding webis-splade \\\n",
    "    --dataset msmarco-passage/trec-dl-2019/judged \\\n",
    "    --retrieval seismic \\\n",
    "    --out seismic-on-dl19-webis-splade"
   ]
  },
  {
   "cell_type": "code",
   "execution_count": 4,
   "id": "8bd21598",
   "metadata": {},
   "outputs": [
    {
     "name": "stdout",
     "output_type": "stream",
     "text": [
      "duckdb-on-dl19-webis-splade\n"
     ]
    }
   ],
   "source": [
    "!lsr-benchmark download-run \\\n",
    "    --embedding webis-splade \\\n",
    "    --dataset msmarco-passage/trec-dl-2019/judged \\\n",
    "    --retrieval duckdb \\\n",
    "    --out duckdb-on-dl19-webis-splade"
   ]
  },
  {
   "cell_type": "markdown",
   "id": "ea38a77e",
   "metadata": {},
   "source": [
    "# Step 6: Run Evaluation"
   ]
  },
  {
   "cell_type": "code",
   "execution_count": 8,
   "id": "16b1357c",
   "metadata": {},
   "outputs": [
    {
     "name": "stdout",
     "output_type": "stream",
     "text": [
      "100%|█████████████████████████████████████████████| 2/2 [00:00<00:00,  4.10it/s]\n",
      "                                                       seismic-on-dl19-webis-splade                       duckdb-on-dl19-webis-splade\n",
      "index.runtime_wallclock                                                    20090 ms                                            390 ms\n",
      "index.energy_total                                                              4.0                                               0.0\n",
      "retrieval.runtime_wallclock                                                   34 ms                                           1033 ms\n",
      "retrieval.energy_total                                                          0.0                                               0.0\n",
      "embedding/doc.runtime_wallclock                                            61744 ms                                          61744 ms\n",
      "embedding/doc.energy_total                                                  11270.0                                           11270.0\n",
      "embedding/query.runtime_wallclock                                           1530 ms                                           1530 ms\n",
      "embedding/query.energy_total                                                  109.0                                             109.0\n",
      "P@10                                                                       0.860465                                          0.860465\n",
      "RR                                                                              1.0                                               1.0\n",
      "nDCG@10                                                                    0.770543                                          0.770543\n",
      "nDCG(judged_only=True)@10                                                  0.771525                                          0.771525\n",
      "tira-dataset-id                    trec-28-deep-learning-passages-20250926-training  trec-28-deep-learning-passages-20250926-training\n",
      "ir-dataset-id                                   msmarco-passage/trec-dl-2019/judged               msmarco-passage/trec-dl-2019/judged\n",
      "approach                                               seismic-on-dl19-webis-splade                       duckdb-on-dl19-webis-splade\n",
      "embedding/model                                                                None                                              None\n"
     ]
    }
   ],
   "source": [
    "!lsr-benchmark evaluate seismic-on-dl19-webis-splade duckdb-on-dl19-webis-splade"
   ]
  }
 ],
 "metadata": {
  "kernelspec": {
   "display_name": "Python 3",
   "language": "python",
   "name": "python3"
  },
  "language_info": {
   "codemirror_mode": {
    "name": "ipython",
    "version": 3
   },
   "file_extension": ".py",
   "mimetype": "text/x-python",
   "name": "python",
   "nbconvert_exporter": "python",
   "pygments_lexer": "ipython3",
   "version": "3.10.12"
  }
 },
 "nbformat": 4,
 "nbformat_minor": 5
}
