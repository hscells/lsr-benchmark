{
 "cells": [
  {
   "cell_type": "markdown",
   "id": "cd39538f",
   "metadata": {},
   "source": [
    "# Tutorial on Retrieval Engines for the lsr-benchmark\n",
    "\n",
    "This tutorial aims to show step-by-step how retrieval engines work in the `lsr-benchmark` and how  you can evaluate your own retrieval engine against existing ones.\n",
    "\n",
    "**ToDo:** Add a detailed description and step-by-step guide on how we arrived at the retrieval engines that we have at [step-03-retrieval-approaches](https://github.com/reneuir/lsr-benchmark/tree/main/step-03-retrieval-approaches)."
   ]
  }
 ],
 "metadata": {
  "language_info": {
   "name": "python"
  }
 },
 "nbformat": 4,
 "nbformat_minor": 5
}
